{
 "cells": [
  {
   "cell_type": "markdown",
   "metadata": {},
   "source": [
    "## Road Scene Segmentation\n",
    "### 1. Setup\n",
    "Note: A requirements.txt file exists for the dependencies.\n",
    "Using keras interface for tensorflow."
   ]
  },
  {
   "cell_type": "code",
   "execution_count": 2,
   "metadata": {},
   "outputs": [],
   "source": [
    "# basic imports\n",
    "import os\n",
    "\n",
    "# necessary libraries\n",
    "import numpy as np\n",
    "import matplotlib.pyplot as plt\n",
    "import tensorflow as tf\n",
    "from tensorflow import keras"
   ]
  },
  {
   "cell_type": "markdown",
   "metadata": {},
   "source": [
    "### 2. Import Dataset\n",
    "#### Datasets: \n",
    "1. KITTI Dataset, 2013 (https://www.cvlibs.net/datasets/kitti/raw_data.php)\n",
    "2. Apolloscape Dataset, 2019 (https://apolloscape.auto/trajectory.html)\n",
    "3. Cityscape Dataset, 2016 (https://www.cityscapes-dataset.com/downloads/)\n",
    "\n",
    "[1] Andreas Geiger and Philip Lenz and Christoph Stiller and Raquel Urtasun, \"Vision meets Robotics: The KITTI Dataset,\" International Journal of Robotics Research (IJRR), 2013\n",
    "\n",
    "[2] Yuexin Ma, Xinge Zhu, Sibo Zhang, Ruigang Yang, Wenping Wang, and Dinesh Manocha, \"TrafficPredict: Trajectory Prediction for Heterogeneous Traffic-Agents,\" AAAI(oral), 2019\n",
    "\n",
    "[3] M. Cordts, M. Omran, S. Ramos, T. Rehfeld, M. Enzweiler, R. Benenson, U. Franke, S. Roth, and B. Schiele, “The Cityscapes Dataset for Semantic Urban Scene Understanding,” in Proc. of the IEEE Conference on Computer Vision and Pattern Recognition (CVPR), 2016."
   ]
  },
  {
   "cell_type": "code",
   "execution_count": null,
   "metadata": {},
   "outputs": [],
   "source": [
    "# Define the directories to store the datasets\n",
    "kitti_dir = os.path.join(os.getcwd(), 'data_kitti')\n",
    "apolloscape_dir = os.path.join(os.getcwd(), 'data_apolloscape')\n",
    "cityscape_dir = os.path.join(os.getcwd(), 'data_cityscape')"
   ]
  },
  {
   "cell_type": "markdown",
   "metadata": {},
   "source": [
    "#### Inspect some samples of each dataset and their labels"
   ]
  },
  {
   "cell_type": "code",
   "execution_count": null,
   "metadata": {},
   "outputs": [],
   "source": [
    "# TODO"
   ]
  },
  {
   "cell_type": "markdown",
   "metadata": {},
   "source": [
    "### 3. Datapreprocessing"
   ]
  },
  {
   "cell_type": "markdown",
   "metadata": {},
   "source": [
    "### 4. Import a Pre-trained VGG as Baseline Model\n",
    "TODO: A better baseline model -> OCNet + SegFix\n",
    "https://github.com/openseg-group/openseg.pytorch (https://arxiv.org/pdf/1909.11065.pdf)\n",
    "\n",
    "Performance on the Cityscapes dataset. The models are trained and tested with input size of 512x1024 and 1024x2048 respectively. The performance of HRNet baseline is around 80.6% based on our training settings, where we train the models with smaller batch size and less iterations compared with the original setting."
   ]
  },
  {
   "cell_type": "code",
   "execution_count": 3,
   "metadata": {},
   "outputs": [
    {
     "name": "stdout",
     "output_type": "stream",
     "text": [
      "Load VGG16 as baseline model.\n",
      "Downloading data from https://storage.googleapis.com/tensorflow/keras-applications/vgg16/vgg16_weights_tf_dim_ordering_tf_kernels.h5\n",
      "553467096/553467096 [==============================] - 21s 0us/step\n"
     ]
    }
   ],
   "source": [
    "def import_baseline_model():\n",
    "    \"\"\"\n",
    "    Load Pretrained VGG Model.\n",
    "    \"\"\"\n",
    "    tf.keras.applications.VGG16(\n",
    "        include_top             = True,\n",
    "        weights                 = \"imagenet\",\n",
    "        input_tensor            = None,\n",
    "        input_shape             = None,\n",
    "        pooling                 = None,\n",
    "        classes                 = 1000,\n",
    "        classifier_activation   = \"softmax\",\n",
    "    )\n",
    "\n",
    "print(\"Load VGG16 as baseline model.\")\n",
    "import_baseline_model()"
   ]
  },
  {
   "cell_type": "markdown",
   "metadata": {},
   "source": [
    "### 5. Test the pre-trained baseline model on the dataset"
   ]
  },
  {
   "cell_type": "code",
   "execution_count": 1,
   "metadata": {},
   "outputs": [],
   "source": [
    "# TODO"
   ]
  }
 ],
 "metadata": {
  "kernelspec": {
   "display_name": "Python 3",
   "language": "python",
   "name": "python3"
  },
  "language_info": {
   "codemirror_mode": {
    "name": "ipython",
    "version": 3
   },
   "file_extension": ".py",
   "mimetype": "text/x-python",
   "name": "python",
   "nbconvert_exporter": "python",
   "pygments_lexer": "ipython3",
   "version": "3.9.18"
  }
 },
 "nbformat": 4,
 "nbformat_minor": 2
}
